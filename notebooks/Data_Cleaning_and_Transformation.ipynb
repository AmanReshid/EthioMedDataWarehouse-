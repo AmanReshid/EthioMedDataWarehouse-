{
 "cells": [
  {
   "cell_type": "markdown",
   "metadata": {},
   "source": [
    "# Task 2: Data Cleaning and Transformation\n",
    "\n",
    "This notebook documents the second phase of the **EthioMed Data Warehouse Project**, focusing on data cleaning and transformation. The aim of this task is to ensure the quality and consistency of the scraped data for storage and further analysis. The following steps are performed:\n",
    "\n",
    "1. **Data Cleaning**: \n",
    "   - Removal of duplicate records.\n",
    "   - Handling of missing values through appropriate imputation or exclusion.\n",
    "   - Standardization of formats (e.g., date formats, text normalization).\n",
    "   - Validation of data integrity against defined standards.\n",
    "\n",
    "2. **Storing Cleaned Data**: \n",
    "   - The cleaned data is stored in a structured database for future queries and reporting.\n",
    "\n",
    "3. **DBT for Data Transformation**:\n",
    "   - Setting up DBT (Data Build Tool) for transformation tasks.\n",
    "   - Defining and running models to transform the cleaned data.\n",
    "   - Testing and documenting transformations for data quality assurance.\n",
    "\n",
    "4. **Monitoring and Logging**:\n",
    "   - Implementing logging to monitor the scraping, cleaning, and transformation process, ensuring traceability of issues.\n",
    "\n",
    "This task is carried out independently, with the ultimate goal of ensuring a reliable data pipeline for the EthioMed Data Warehouse.\n"
   ]
  },
  {
   "cell_type": "markdown",
   "metadata": {},
   "source": [
    "# Importing Liraries"
   ]
  },
  {
   "cell_type": "code",
   "execution_count": 1,
   "metadata": {},
   "outputs": [],
   "source": [
    "import sys\n",
    "import os\n",
    "\n",
    "# Add the scripts folder to the Python path\n",
    "sys.path.append(os.path.abspath('../scripts'))"
   ]
  },
  {
   "cell_type": "code",
   "execution_count": 2,
   "metadata": {},
   "outputs": [],
   "source": [
    "from data_cleaning_transformation import *"
   ]
  },
  {
   "cell_type": "code",
   "execution_count": 3,
   "metadata": {},
   "outputs": [],
   "source": [
    "import data_cleaning_transformation"
   ]
  },
  {
   "cell_type": "code",
   "execution_count": 4,
   "metadata": {},
   "outputs": [],
   "source": [
    "# Loading the Scraped Dataframe\n",
    "file_path = \"../data/telegram_data.csv\"\n",
    "df = data_cleaning_transformation.load_data(file_path)"
   ]
  },
  {
   "cell_type": "code",
   "execution_count": 5,
   "metadata": {},
   "outputs": [
    {
     "data": {
      "text/html": [
       "<div>\n",
       "<style scoped>\n",
       "    .dataframe tbody tr th:only-of-type {\n",
       "        vertical-align: middle;\n",
       "    }\n",
       "\n",
       "    .dataframe tbody tr th {\n",
       "        vertical-align: top;\n",
       "    }\n",
       "\n",
       "    .dataframe thead th {\n",
       "        text-align: right;\n",
       "    }\n",
       "</style>\n",
       "<table border=\"1\" class=\"dataframe\">\n",
       "  <thead>\n",
       "    <tr style=\"text-align: right;\">\n",
       "      <th></th>\n",
       "      <th>Channel Title</th>\n",
       "      <th>Channel Username</th>\n",
       "      <th>ID</th>\n",
       "      <th>Message</th>\n",
       "      <th>Date</th>\n",
       "      <th>Media Path</th>\n",
       "    </tr>\n",
       "  </thead>\n",
       "  <tbody>\n",
       "    <tr>\n",
       "      <th>0</th>\n",
       "      <td>Doctors Ethiopia</td>\n",
       "      <td>@DoctorsET</td>\n",
       "      <td>864</td>\n",
       "      <td>https://youtu.be/5DBoEm-8kmA?si=LDLuEecNfULJVD...</td>\n",
       "      <td>2023-12-18 17:04:02+00:00</td>\n",
       "      <td>NaN</td>\n",
       "    </tr>\n",
       "    <tr>\n",
       "      <th>1</th>\n",
       "      <td>Doctors Ethiopia</td>\n",
       "      <td>@DoctorsET</td>\n",
       "      <td>863</td>\n",
       "      <td>ዶክተርስ ኢትዮጵያ በ አዲስ አቀራረብ በ ቴሌቪዥን ፕሮግራሙን ለመጀመር ከ...</td>\n",
       "      <td>2023-11-03 16:14:39+00:00</td>\n",
       "      <td>NaN</td>\n",
       "    </tr>\n",
       "    <tr>\n",
       "      <th>2</th>\n",
       "      <td>Doctors Ethiopia</td>\n",
       "      <td>@DoctorsET</td>\n",
       "      <td>862</td>\n",
       "      <td>ሞት በስኳር \\n\\nለልጆቻችን የምናሲዘው ምሳቃ ሳናቀው እድሚያቸውን ይቀን...</td>\n",
       "      <td>2023-10-02 16:37:39+00:00</td>\n",
       "      <td>NaN</td>\n",
       "    </tr>\n",
       "    <tr>\n",
       "      <th>3</th>\n",
       "      <td>Doctors Ethiopia</td>\n",
       "      <td>@DoctorsET</td>\n",
       "      <td>861</td>\n",
       "      <td>ከ HIV የተፈወሰ ሰው አጋጥሟችሁ ያቃል ? ፈውስ እና ህክምና ?\\n\\nሙ...</td>\n",
       "      <td>2023-09-16 07:54:32+00:00</td>\n",
       "      <td>NaN</td>\n",
       "    </tr>\n",
       "    <tr>\n",
       "      <th>4</th>\n",
       "      <td>Doctors Ethiopia</td>\n",
       "      <td>@DoctorsET</td>\n",
       "      <td>860</td>\n",
       "      <td>በቅርብ ጊዜ በሃገራችን ላይ እየተስተዋለ ያለ የተመሳሳይ ፆታ ( Homos...</td>\n",
       "      <td>2023-09-01 16:16:15+00:00</td>\n",
       "      <td>NaN</td>\n",
       "    </tr>\n",
       "  </tbody>\n",
       "</table>\n",
       "</div>"
      ],
      "text/plain": [
       "      Channel Title Channel Username   ID  \\\n",
       "0  Doctors Ethiopia       @DoctorsET  864   \n",
       "1  Doctors Ethiopia       @DoctorsET  863   \n",
       "2  Doctors Ethiopia       @DoctorsET  862   \n",
       "3  Doctors Ethiopia       @DoctorsET  861   \n",
       "4  Doctors Ethiopia       @DoctorsET  860   \n",
       "\n",
       "                                             Message  \\\n",
       "0  https://youtu.be/5DBoEm-8kmA?si=LDLuEecNfULJVD...   \n",
       "1  ዶክተርስ ኢትዮጵያ በ አዲስ አቀራረብ በ ቴሌቪዥን ፕሮግራሙን ለመጀመር ከ...   \n",
       "2  ሞት በስኳር \\n\\nለልጆቻችን የምናሲዘው ምሳቃ ሳናቀው እድሚያቸውን ይቀን...   \n",
       "3  ከ HIV የተፈወሰ ሰው አጋጥሟችሁ ያቃል ? ፈውስ እና ህክምና ?\\n\\nሙ...   \n",
       "4  በቅርብ ጊዜ በሃገራችን ላይ እየተስተዋለ ያለ የተመሳሳይ ፆታ ( Homos...   \n",
       "\n",
       "                        Date Media Path  \n",
       "0  2023-12-18 17:04:02+00:00        NaN  \n",
       "1  2023-11-03 16:14:39+00:00        NaN  \n",
       "2  2023-10-02 16:37:39+00:00        NaN  \n",
       "3  2023-09-16 07:54:32+00:00        NaN  \n",
       "4  2023-09-01 16:16:15+00:00        NaN  "
      ]
     },
     "execution_count": 5,
     "metadata": {},
     "output_type": "execute_result"
    }
   ],
   "source": [
    "df.head()"
   ]
  },
  {
   "cell_type": "code",
   "execution_count": 6,
   "metadata": {},
   "outputs": [
    {
     "name": "stdout",
     "output_type": "stream",
     "text": [
      "<class 'pandas.core.frame.DataFrame'>\n",
      "RangeIndex: 6288 entries, 0 to 6287\n",
      "Data columns (total 6 columns):\n",
      " #   Column            Non-Null Count  Dtype \n",
      "---  ------            --------------  ----- \n",
      " 0   Channel Title     6288 non-null   object\n",
      " 1   Channel Username  6288 non-null   object\n",
      " 2   ID                6288 non-null   int64 \n",
      " 3   Message           5118 non-null   object\n",
      " 4   Date              6288 non-null   object\n",
      " 5   Media Path        4749 non-null   object\n",
      "dtypes: int64(1), object(5)\n",
      "memory usage: 294.9+ KB\n"
     ]
    }
   ],
   "source": [
    "df.info()"
   ]
  },
  {
   "cell_type": "markdown",
   "metadata": {},
   "source": [
    "# Data Cleaning"
   ]
  },
  {
   "cell_type": "markdown",
   "metadata": {},
   "source": [
    "Removing Duplicates"
   ]
  },
  {
   "cell_type": "code",
   "execution_count": 7,
   "metadata": {},
   "outputs": [],
   "source": [
    "# Remove duplicates\n",
    "df = df.drop_duplicates()"
   ]
  },
  {
   "cell_type": "markdown",
   "metadata": {},
   "source": [
    "Handling Missing Values"
   ]
  },
  {
   "cell_type": "code",
   "execution_count": 8,
   "metadata": {},
   "outputs": [
    {
     "name": "stdout",
     "output_type": "stream",
     "text": [
      "Your selected dataframe has 6 columns.\n",
      "There are 2 columns that have missing values.\n"
     ]
    },
    {
     "data": {
      "text/html": [
       "<div>\n",
       "<style scoped>\n",
       "    .dataframe tbody tr th:only-of-type {\n",
       "        vertical-align: middle;\n",
       "    }\n",
       "\n",
       "    .dataframe tbody tr th {\n",
       "        vertical-align: top;\n",
       "    }\n",
       "\n",
       "    .dataframe thead th {\n",
       "        text-align: right;\n",
       "    }\n",
       "</style>\n",
       "<table border=\"1\" class=\"dataframe\">\n",
       "  <thead>\n",
       "    <tr style=\"text-align: right;\">\n",
       "      <th></th>\n",
       "      <th>Missing Values</th>\n",
       "      <th>% of Total Values</th>\n",
       "      <th>Dtype</th>\n",
       "    </tr>\n",
       "  </thead>\n",
       "  <tbody>\n",
       "    <tr>\n",
       "      <th>Media Path</th>\n",
       "      <td>1539</td>\n",
       "      <td>24.5</td>\n",
       "      <td>object</td>\n",
       "    </tr>\n",
       "    <tr>\n",
       "      <th>Message</th>\n",
       "      <td>1170</td>\n",
       "      <td>18.6</td>\n",
       "      <td>object</td>\n",
       "    </tr>\n",
       "  </tbody>\n",
       "</table>\n",
       "</div>"
      ],
      "text/plain": [
       "            Missing Values  % of Total Values   Dtype\n",
       "Media Path            1539               24.5  object\n",
       "Message               1170               18.6  object"
      ]
     },
     "execution_count": 8,
     "metadata": {},
     "output_type": "execute_result"
    }
   ],
   "source": [
    "# Checking for missing Value\n",
    "missing_values_table(df)"
   ]
  },
  {
   "cell_type": "code",
   "execution_count": 9,
   "metadata": {},
   "outputs": [],
   "source": [
    "# Fill missing Media Path values with a placeholder\n",
    "df['Media Path'] = df['Media Path'].fillna('No media')  # Reassign the column\n",
    "\n",
    "# Drop rows where Message is NaN\n",
    "df = df.dropna(subset=['Message'])  # Reassign the DataFrame"
   ]
  },
  {
   "cell_type": "code",
   "execution_count": 10,
   "metadata": {},
   "outputs": [
    {
     "name": "stdout",
     "output_type": "stream",
     "text": [
      "Your selected dataframe has 6 columns.\n",
      "There are 0 columns that have missing values.\n"
     ]
    },
    {
     "data": {
      "text/html": [
       "<div>\n",
       "<style scoped>\n",
       "    .dataframe tbody tr th:only-of-type {\n",
       "        vertical-align: middle;\n",
       "    }\n",
       "\n",
       "    .dataframe tbody tr th {\n",
       "        vertical-align: top;\n",
       "    }\n",
       "\n",
       "    .dataframe thead th {\n",
       "        text-align: right;\n",
       "    }\n",
       "</style>\n",
       "<table border=\"1\" class=\"dataframe\">\n",
       "  <thead>\n",
       "    <tr style=\"text-align: right;\">\n",
       "      <th></th>\n",
       "      <th>Missing Values</th>\n",
       "      <th>% of Total Values</th>\n",
       "      <th>Dtype</th>\n",
       "    </tr>\n",
       "  </thead>\n",
       "  <tbody>\n",
       "  </tbody>\n",
       "</table>\n",
       "</div>"
      ],
      "text/plain": [
       "Empty DataFrame\n",
       "Columns: [Missing Values, % of Total Values, Dtype]\n",
       "Index: []"
      ]
     },
     "execution_count": 10,
     "metadata": {},
     "output_type": "execute_result"
    }
   ],
   "source": [
    "# Checking for missing Value again to ensure \n",
    "missing_values_table(df)"
   ]
  },
  {
   "cell_type": "markdown",
   "metadata": {},
   "source": [
    "Standardizing Formats"
   ]
  },
  {
   "cell_type": "code",
   "execution_count": 11,
   "metadata": {},
   "outputs": [],
   "source": [
    "# Standardize date formats\n",
    "df['Date'] = pd.to_datetime(df['Date'], errors='coerce')"
   ]
  },
  {
   "cell_type": "markdown",
   "metadata": {},
   "source": [
    "Removing Emojis"
   ]
  },
  {
   "cell_type": "code",
   "execution_count": 12,
   "metadata": {},
   "outputs": [],
   "source": [
    "\n",
    "df['Message'] = df['Message'].apply(remove_emojis)"
   ]
  },
  {
   "cell_type": "markdown",
   "metadata": {},
   "source": []
  },
  {
   "cell_type": "code",
   "execution_count": 15,
   "metadata": {},
   "outputs": [
    {
     "data": {
      "text/plain": [
       "Index(['Channel Title', 'Channel Username', 'ID', 'Message', 'Date',\n",
       "       'Media Path'],\n",
       "      dtype='object')"
      ]
     },
     "execution_count": 15,
     "metadata": {},
     "output_type": "execute_result"
    }
   ],
   "source": [
    "df.columns"
   ]
  },
  {
   "cell_type": "code",
   "execution_count": 13,
   "metadata": {},
   "outputs": [
    {
     "data": {
      "text/html": [
       "<div>\n",
       "<style scoped>\n",
       "    .dataframe tbody tr th:only-of-type {\n",
       "        vertical-align: middle;\n",
       "    }\n",
       "\n",
       "    .dataframe tbody tr th {\n",
       "        vertical-align: top;\n",
       "    }\n",
       "\n",
       "    .dataframe thead th {\n",
       "        text-align: right;\n",
       "    }\n",
       "</style>\n",
       "<table border=\"1\" class=\"dataframe\">\n",
       "  <thead>\n",
       "    <tr style=\"text-align: right;\">\n",
       "      <th></th>\n",
       "      <th>col_name</th>\n",
       "      <th>col_dtype</th>\n",
       "      <th>num_of_nulls</th>\n",
       "      <th>num_of_non_nulls</th>\n",
       "      <th>num_of_distinct_values</th>\n",
       "      <th>distinct_values_counts</th>\n",
       "    </tr>\n",
       "  </thead>\n",
       "  <tbody>\n",
       "    <tr>\n",
       "      <th>0</th>\n",
       "      <td>Channel Title</td>\n",
       "      <td>object</td>\n",
       "      <td>0</td>\n",
       "      <td>5118</td>\n",
       "      <td>4</td>\n",
       "      <td>{'Lobelia pharmacy and cosmetics': 2254, 'ETHI...</td>\n",
       "    </tr>\n",
       "    <tr>\n",
       "      <th>1</th>\n",
       "      <td>Channel Username</td>\n",
       "      <td>object</td>\n",
       "      <td>0</td>\n",
       "      <td>5118</td>\n",
       "      <td>4</td>\n",
       "      <td>{'@lobelia4cosmetics': 2254, '@EAHCI': 1528, '...</td>\n",
       "    </tr>\n",
       "    <tr>\n",
       "      <th>2</th>\n",
       "      <td>ID</td>\n",
       "      <td>int64</td>\n",
       "      <td>0</td>\n",
       "      <td>5118</td>\n",
       "      <td>4182</td>\n",
       "      <td>{71: 4, 864: 3, 463: 3, 467: 3, 469: 3, 470: 3...</td>\n",
       "    </tr>\n",
       "    <tr>\n",
       "      <th>3</th>\n",
       "      <td>Message</td>\n",
       "      <td>object</td>\n",
       "      <td>0</td>\n",
       "      <td>5118</td>\n",
       "      <td>2819</td>\n",
       "      <td>{'NIDO USA 2.2KG\n",
       "Price 5900 birr \n",
       "Telegram htt...</td>\n",
       "    </tr>\n",
       "    <tr>\n",
       "      <th>4</th>\n",
       "      <td>Date</td>\n",
       "      <td>datetime64[ns, UTC]</td>\n",
       "      <td>0</td>\n",
       "      <td>5118</td>\n",
       "      <td>3314</td>\n",
       "      <td>{2024-10-08 04:35:59+00:00: 24, 2024-10-02 08:...</td>\n",
       "    </tr>\n",
       "    <tr>\n",
       "      <th>5</th>\n",
       "      <td>Media Path</td>\n",
       "      <td>object</td>\n",
       "      <td>0</td>\n",
       "      <td>5118</td>\n",
       "      <td>4031</td>\n",
       "      <td>{'No media': 1088, 'photos\\@yetenaweg_627.jpg'...</td>\n",
       "    </tr>\n",
       "  </tbody>\n",
       "</table>\n",
       "</div>"
      ],
      "text/plain": [
       "           col_name            col_dtype  num_of_nulls  num_of_non_nulls  \\\n",
       "0     Channel Title               object             0              5118   \n",
       "1  Channel Username               object             0              5118   \n",
       "2                ID                int64             0              5118   \n",
       "3           Message               object             0              5118   \n",
       "4              Date  datetime64[ns, UTC]             0              5118   \n",
       "5        Media Path               object             0              5118   \n",
       "\n",
       "   num_of_distinct_values                             distinct_values_counts  \n",
       "0                       4  {'Lobelia pharmacy and cosmetics': 2254, 'ETHI...  \n",
       "1                       4  {'@lobelia4cosmetics': 2254, '@EAHCI': 1528, '...  \n",
       "2                    4182  {71: 4, 864: 3, 463: 3, 467: 3, 469: 3, 470: 3...  \n",
       "3                    2819  {'NIDO USA 2.2KG\n",
       "Price 5900 birr \n",
       "Telegram htt...  \n",
       "4                    3314  {2024-10-08 04:35:59+00:00: 24, 2024-10-02 08:...  \n",
       "5                    4031  {'No media': 1088, 'photos\\@yetenaweg_627.jpg'...  "
      ]
     },
     "execution_count": 13,
     "metadata": {},
     "output_type": "execute_result"
    }
   ],
   "source": [
    "summary(df)"
   ]
  },
  {
   "cell_type": "markdown",
   "metadata": {},
   "source": [
    "Storing Cleaned Data"
   ]
  },
  {
   "cell_type": "code",
   "execution_count": 14,
   "metadata": {},
   "outputs": [],
   "source": [
    "store_cleaned_data(df, \"ethio_med_data\")"
   ]
  },
  {
   "cell_type": "code",
   "execution_count": 22,
   "metadata": {},
   "outputs": [],
   "source": []
  }
 ],
 "metadata": {
  "kernelspec": {
   "display_name": "venv",
   "language": "python",
   "name": "python3"
  },
  "language_info": {
   "codemirror_mode": {
    "name": "ipython",
    "version": 3
   },
   "file_extension": ".py",
   "mimetype": "text/x-python",
   "name": "python",
   "nbconvert_exporter": "python",
   "pygments_lexer": "ipython3",
   "version": "3.12.5"
  }
 },
 "nbformat": 4,
 "nbformat_minor": 2
}
